#!/usr/bin/env python
# coding: utf-8

# In[1]:


X="I am very keen in building up my career in Data Science, but not sure from where to start. If I search the web it throws me thousands of articles, few are relevant others make me confused, again I come around to the same page. Supervised has provided me a good platform to remove all such qualms which were wrangling in my mind"


# In[3]:


S=X.split()


# In[4]:


S


# In[5]:


len_list=list()


# In[6]:


for word in S:
    len_list.append(len(word))


# In[7]:


len_list


# In[8]:


sum(len_list)


# In[9]:


S1=sum(len_list)/len(X)


# In[10]:


S1


# In[11]:


avg=sum(len(word) for word in S) / len(S)


# In[12]:


avg


# In[13]:


S1=sum(len_list)/len(S)


# In[14]:


S1


# In[28]:


print("avg length of string is",S1)


# In[ ]:





# In[ ]:





# In[ ]:





# In[ ]:





# # Lower the text in the string

# In[21]:


print("lower the text string",X.lower())


# #Try to get the clean text removing the punctuation from the string.

# In[24]:


print("clean text",X.replace(",",""))


# # Extract word "Data Science" from the string.

# # Can you change the word "Supervised" to "Unsupervised" in the string

# In[29]:


print(X.replace("Supervised","Unsupervised"))


# # Splitting of the string with a dot operator(.)

# In[30]:


print(X.split("."))


# # Find the words from the string which ends with "e"

# In[36]:


e_words_list=list()


# In[37]:


for word in S:
    if word.endswith("e"):
        e_words_list.append(word)


# In[38]:


e_words_list


# In[44]:


print(e_words_list)


# In[45]:


a_count=0


# # Figure out number of a's used in the string.

# In[49]:


for word in S:
    if word.__contains__('a'):
        for c in word.split():
            a_count=a_count+1


# In[50]:


a_count


# In[51]:


print("number of a's used",a_count)


# In[ ]:




