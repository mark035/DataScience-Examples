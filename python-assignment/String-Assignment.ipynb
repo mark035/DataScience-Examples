{
 "cells": [
  {
   "cell_type": "code",
   "execution_count": 1,
   "metadata": {},
   "outputs": [],
   "source": [
    "X=\"I am very keen in building up my career in Data Science, but not sure from where to start. If I search the web it throws me thousands of articles, few are relevant others make me confused, again I come around to the same page. Supervised has provided me a good platform to remove all such qualms which were wrangling in my mind\""
   ]
  },
  {
   "cell_type": "code",
   "execution_count": 2,
   "metadata": {},
   "outputs": [],
   "source": [
    "S=X.split()"
   ]
  },
  {
   "cell_type": "code",
   "execution_count": 4,
   "metadata": {},
   "outputs": [
    {
     "data": {
      "text/plain": [
       "['I',\n",
       " 'am',\n",
       " 'very',\n",
       " 'keen',\n",
       " 'in',\n",
       " 'building',\n",
       " 'up',\n",
       " 'my',\n",
       " 'career',\n",
       " 'in',\n",
       " 'Data',\n",
       " 'Science,',\n",
       " 'but',\n",
       " 'not',\n",
       " 'sure',\n",
       " 'from',\n",
       " 'where',\n",
       " 'to',\n",
       " 'start.',\n",
       " 'If',\n",
       " 'I',\n",
       " 'search',\n",
       " 'the',\n",
       " 'web',\n",
       " 'it',\n",
       " 'throws',\n",
       " 'me',\n",
       " 'thousands',\n",
       " 'of',\n",
       " 'articles,',\n",
       " 'few',\n",
       " 'are',\n",
       " 'relevant',\n",
       " 'others',\n",
       " 'make',\n",
       " 'me',\n",
       " 'confused,',\n",
       " 'again',\n",
       " 'I',\n",
       " 'come',\n",
       " 'around',\n",
       " 'to',\n",
       " 'the',\n",
       " 'same',\n",
       " 'page.',\n",
       " 'Supervised',\n",
       " 'has',\n",
       " 'provided',\n",
       " 'me',\n",
       " 'a',\n",
       " 'good',\n",
       " 'platform',\n",
       " 'to',\n",
       " 'remove',\n",
       " 'all',\n",
       " 'such',\n",
       " 'qualms',\n",
       " 'which',\n",
       " 'were',\n",
       " 'wrangling',\n",
       " 'in',\n",
       " 'my',\n",
       " 'mind']"
      ]
     },
     "execution_count": 4,
     "metadata": {},
     "output_type": "execute_result"
    }
   ],
   "source": [
    "S"
   ]
  },
  {
   "cell_type": "code",
   "execution_count": 5,
   "metadata": {},
   "outputs": [],
   "source": [
    "len_list=list()"
   ]
  },
  {
   "cell_type": "code",
   "execution_count": 6,
   "metadata": {},
   "outputs": [],
   "source": [
    "for word in S:\n",
    "    len_list.append(len(word))"
   ]
  },
  {
   "cell_type": "code",
   "execution_count": 7,
   "metadata": {},
   "outputs": [],
   "source": [
    "S1=sum(len_list)/len(S)"
   ]
  },
  {
   "cell_type": "code",
   "execution_count": 8,
   "metadata": {},
   "outputs": [
    {
     "name": "stdout",
     "output_type": "stream",
     "text": [
      "avg length of string is 4.2063492063492065\n"
     ]
    }
   ],
   "source": [
    "print(\"avg length of string is\",S1)"
   ]
  },
  {
   "cell_type": "code",
   "execution_count": 9,
   "metadata": {},
   "outputs": [
    {
     "name": "stdout",
     "output_type": "stream",
     "text": [
      "lower the text string i am very keen in building up my career in data science, but not sure from where to start. if i search the web it throws me thousands of articles, few are relevant others make me confused, again i come around to the same page. supervised has provided me a good platform to remove all such qualms which were wrangling in my mind\n"
     ]
    }
   ],
   "source": [
    "print(\"lower the text string\",X.lower())"
   ]
  },
  {
   "cell_type": "code",
   "execution_count": 10,
   "metadata": {},
   "outputs": [
    {
     "name": "stdout",
     "output_type": "stream",
     "text": [
      "clean text I am very keen in building up my career in Data Science but not sure from where to start. If I search the web it throws me thousands of articles few are relevant others make me confused again I come around to the same page. Supervised has provided me a good platform to remove all such qualms which were wrangling in my mind\n"
     ]
    }
   ],
   "source": [
    "print(\"clean text\",X.replace(\",\",\"\"))"
   ]
  },
  {
   "cell_type": "code",
   "execution_count": 11,
   "metadata": {},
   "outputs": [
    {
     "name": "stdout",
     "output_type": "stream",
     "text": [
      "I am very keen in building up my career in Data Science, but not sure from where to start. If I search the web it throws me thousands of articles, few are relevant others make me confused, again I come around to the same page. Unsupervised has provided me a good platform to remove all such qualms which were wrangling in my mind\n"
     ]
    }
   ],
   "source": [
    "print(X.replace(\"Supervised\",\"Unsupervised\"))"
   ]
  },
  {
   "cell_type": "code",
   "execution_count": 12,
   "metadata": {},
   "outputs": [],
   "source": [
    "findword=\"Data Science\""
   ]
  },
  {
   "cell_type": "code",
   "execution_count": 23,
   "metadata": {},
   "outputs": [
    {
     "name": "stdout",
     "output_type": "stream",
     "text": [
      "Data Science\n"
     ]
    }
   ],
   "source": [
    "if X.find(\"Data Science\"):\n",
    "    print(\"Data Science\")\n",
    "else:\n",
    "    print(\"there is no word Data Science \")\n"
   ]
  },
  {
   "cell_type": "code",
   "execution_count": 14,
   "metadata": {},
   "outputs": [
    {
     "data": {
      "text/plain": [
       "'I am very keen in building up my career in Data Science'"
      ]
     },
     "execution_count": 14,
     "metadata": {},
     "output_type": "execute_result"
    }
   ],
   "source": [
    "findWord"
   ]
  },
  {
   "cell_type": "code",
   "execution_count": 24,
   "metadata": {},
   "outputs": [],
   "source": [
    "def freq(str): \n",
    "  \n",
    "    str = str.split()          \n",
    "    str2 = [] \n",
    "  \n",
    "    for i in str:              \n",
    "        if i not in str2: \n",
    "            str2.append(i)  \n",
    "              \n",
    "    for i in range(0, len(str2)): \n",
    "        print('Frequency of', str2[i], 'is :', str.count(str2[i]))"
   ]
  },
  {
   "cell_type": "code",
   "execution_count": 25,
   "metadata": {},
   "outputs": [
    {
     "name": "stdout",
     "output_type": "stream",
     "text": [
      "Frequency of I is : 3\n",
      "Frequency of am is : 1\n",
      "Frequency of very is : 1\n",
      "Frequency of keen is : 1\n",
      "Frequency of in is : 3\n",
      "Frequency of building is : 1\n",
      "Frequency of up is : 1\n",
      "Frequency of my is : 2\n",
      "Frequency of career is : 1\n",
      "Frequency of Data is : 1\n",
      "Frequency of Science, is : 1\n",
      "Frequency of but is : 1\n",
      "Frequency of not is : 1\n",
      "Frequency of sure is : 1\n",
      "Frequency of from is : 1\n",
      "Frequency of where is : 1\n",
      "Frequency of to is : 3\n",
      "Frequency of start. is : 1\n",
      "Frequency of If is : 1\n",
      "Frequency of search is : 1\n",
      "Frequency of the is : 2\n",
      "Frequency of web is : 1\n",
      "Frequency of it is : 1\n",
      "Frequency of throws is : 1\n",
      "Frequency of me is : 3\n",
      "Frequency of thousands is : 1\n",
      "Frequency of of is : 1\n",
      "Frequency of articles, is : 1\n",
      "Frequency of few is : 1\n",
      "Frequency of are is : 1\n",
      "Frequency of relevant is : 1\n",
      "Frequency of others is : 1\n",
      "Frequency of make is : 1\n",
      "Frequency of confused, is : 1\n",
      "Frequency of again is : 1\n",
      "Frequency of come is : 1\n",
      "Frequency of around is : 1\n",
      "Frequency of same is : 1\n",
      "Frequency of page. is : 1\n",
      "Frequency of Supervised is : 1\n",
      "Frequency of has is : 1\n",
      "Frequency of provided is : 1\n",
      "Frequency of a is : 1\n",
      "Frequency of good is : 1\n",
      "Frequency of platform is : 1\n",
      "Frequency of remove is : 1\n",
      "Frequency of all is : 1\n",
      "Frequency of such is : 1\n",
      "Frequency of qualms is : 1\n",
      "Frequency of which is : 1\n",
      "Frequency of were is : 1\n",
      "Frequency of wrangling is : 1\n",
      "Frequency of mind is : 1\n"
     ]
    }
   ],
   "source": [
    "freq(X)"
   ]
  },
  {
   "cell_type": "code",
   "execution_count": 26,
   "metadata": {},
   "outputs": [
    {
     "name": "stdout",
     "output_type": "stream",
     "text": [
      "['I am very keen in building up my career in Data Science, but not sure from where to start', ' If I search the web it throws me thousands of articles, few are relevant others make me confused, again I come around to the same page', ' Supervised has provided me a good platform to remove all such qualms which were wrangling in my mind']\n"
     ]
    }
   ],
   "source": [
    "print(X.split(\".\"))"
   ]
  },
  {
   "cell_type": "code",
   "execution_count": 27,
   "metadata": {},
   "outputs": [],
   "source": [
    "e_words_list=list()"
   ]
  },
  {
   "cell_type": "code",
   "execution_count": 28,
   "metadata": {},
   "outputs": [],
   "source": [
    "for word in S:\n",
    "    if word.endswith(\"e\"):\n",
    "        e_words_list.append(word)\n"
   ]
  },
  {
   "cell_type": "code",
   "execution_count": 29,
   "metadata": {},
   "outputs": [
    {
     "name": "stdout",
     "output_type": "stream",
     "text": [
      "['sure', 'where', 'the', 'me', 'are', 'make', 'me', 'come', 'the', 'same', 'me', 'remove', 'were']\n"
     ]
    }
   ],
   "source": [
    "print(e_words_list)"
   ]
  },
  {
   "cell_type": "code",
   "execution_count": 30,
   "metadata": {},
   "outputs": [],
   "source": [
    "a_count=0"
   ]
  },
  {
   "cell_type": "code",
   "execution_count": 31,
   "metadata": {},
   "outputs": [],
   "source": [
    "for word in S:\n",
    "    if word.__contains__('a'):\n",
    "        for c in word.split():\n",
    "            a_count=a_count+1"
   ]
  },
  {
   "cell_type": "code",
   "execution_count": 32,
   "metadata": {},
   "outputs": [
    {
     "name": "stdout",
     "output_type": "stream",
     "text": [
      "number of a's used 20\n"
     ]
    }
   ],
   "source": [
    "print(\"number of a's used\",a_count)"
   ]
  },
  {
   "cell_type": "code",
   "execution_count": null,
   "metadata": {},
   "outputs": [],
   "source": []
  }
 ],
 "metadata": {
  "kernelspec": {
   "display_name": "Python 3",
   "language": "python",
   "name": "python3"
  },
  "language_info": {
   "codemirror_mode": {
    "name": "ipython",
    "version": 3
   },
   "file_extension": ".py",
   "mimetype": "text/x-python",
   "name": "python",
   "nbconvert_exporter": "python",
   "pygments_lexer": "ipython3",
   "version": "3.7.4"
  }
 },
 "nbformat": 4,
 "nbformat_minor": 2
}
